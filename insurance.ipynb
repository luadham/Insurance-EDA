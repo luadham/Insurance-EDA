{
 "cells": [
  {
   "cell_type": "markdown",
   "id": "3ffac35f-a512-4d80-ac68-d9962b5685fb",
   "metadata": {},
   "source": [
    "**Objectives**\n",
    "* EDA and Visualization"
   ]
  },
  {
   "cell_type": "markdown",
   "id": "1c357ba0-c462-456d-90d6-c767c0065d43",
   "metadata": {},
   "source": [
    "<h2>Importing Libraries</h2>"
   ]
  },
  {
   "cell_type": "code",
   "execution_count": 1,
   "id": "499e6eab-91aa-45c6-b434-eaa0bf8cdfcf",
   "metadata": {},
   "outputs": [],
   "source": [
    "import pandas as pd\n",
    "import matplotlib.pyplot as plt\n",
    "import seaborn as sns\n",
    "import numpy as np\n",
    "plt.style.use('seaborn-whitegrid')\n",
    "pd.set_option('display.max_columns', 500)\n",
    "sns.set_palette('pastel')"
   ]
  },
  {
   "cell_type": "code",
   "execution_count": 2,
   "id": "5beb9bf3-356a-431d-81af-2c43529f5068",
   "metadata": {},
   "outputs": [],
   "source": [
    "data = pd.read_csv('insurance-data.csv')"
   ]
  },
  {
   "cell_type": "code",
   "execution_count": 3,
   "id": "dc453a3f-464a-47fd-b6b7-62c9f521b23c",
   "metadata": {},
   "outputs": [
    {
     "data": {
      "text/html": [
       "<div>\n",
       "<style scoped>\n",
       "    .dataframe tbody tr th:only-of-type {\n",
       "        vertical-align: middle;\n",
       "    }\n",
       "\n",
       "    .dataframe tbody tr th {\n",
       "        vertical-align: top;\n",
       "    }\n",
       "\n",
       "    .dataframe thead th {\n",
       "        text-align: right;\n",
       "    }\n",
       "</style>\n",
       "<table border=\"1\" class=\"dataframe\">\n",
       "  <thead>\n",
       "    <tr style=\"text-align: right;\">\n",
       "      <th></th>\n",
       "      <th>age</th>\n",
       "      <th>sex</th>\n",
       "      <th>bmi</th>\n",
       "      <th>children</th>\n",
       "      <th>smoker</th>\n",
       "      <th>region</th>\n",
       "      <th>charges</th>\n",
       "    </tr>\n",
       "  </thead>\n",
       "  <tbody>\n",
       "    <tr>\n",
       "      <th>0</th>\n",
       "      <td>19</td>\n",
       "      <td>female</td>\n",
       "      <td>27.900</td>\n",
       "      <td>0</td>\n",
       "      <td>yes</td>\n",
       "      <td>southwest</td>\n",
       "      <td>16884.92400</td>\n",
       "    </tr>\n",
       "    <tr>\n",
       "      <th>1</th>\n",
       "      <td>18</td>\n",
       "      <td>male</td>\n",
       "      <td>33.770</td>\n",
       "      <td>1</td>\n",
       "      <td>no</td>\n",
       "      <td>southeast</td>\n",
       "      <td>1725.55230</td>\n",
       "    </tr>\n",
       "    <tr>\n",
       "      <th>2</th>\n",
       "      <td>28</td>\n",
       "      <td>male</td>\n",
       "      <td>33.000</td>\n",
       "      <td>3</td>\n",
       "      <td>no</td>\n",
       "      <td>southeast</td>\n",
       "      <td>4449.46200</td>\n",
       "    </tr>\n",
       "    <tr>\n",
       "      <th>3</th>\n",
       "      <td>33</td>\n",
       "      <td>male</td>\n",
       "      <td>22.705</td>\n",
       "      <td>0</td>\n",
       "      <td>no</td>\n",
       "      <td>northwest</td>\n",
       "      <td>21984.47061</td>\n",
       "    </tr>\n",
       "    <tr>\n",
       "      <th>4</th>\n",
       "      <td>32</td>\n",
       "      <td>male</td>\n",
       "      <td>28.880</td>\n",
       "      <td>0</td>\n",
       "      <td>no</td>\n",
       "      <td>northwest</td>\n",
       "      <td>3866.85520</td>\n",
       "    </tr>\n",
       "  </tbody>\n",
       "</table>\n",
       "</div>"
      ],
      "text/plain": [
       "   age     sex     bmi  children smoker     region      charges\n",
       "0   19  female  27.900         0    yes  southwest  16884.92400\n",
       "1   18    male  33.770         1     no  southeast   1725.55230\n",
       "2   28    male  33.000         3     no  southeast   4449.46200\n",
       "3   33    male  22.705         0     no  northwest  21984.47061\n",
       "4   32    male  28.880         0     no  northwest   3866.85520"
      ]
     },
     "execution_count": 3,
     "metadata": {},
     "output_type": "execute_result"
    }
   ],
   "source": [
    "data.head()"
   ]
  },
  {
   "cell_type": "markdown",
   "id": "53adbcb0-f334-441c-9bbb-633e46f3f15f",
   "metadata": {},
   "source": [
    "---\n",
    "<h3>Helper Functions</h3>"
   ]
  },
  {
   "cell_type": "code",
   "execution_count": 4,
   "id": "b2b2a07b-484d-4c23-a612-0bdd354d78c3",
   "metadata": {},
   "outputs": [],
   "source": [
    "# This Function for Plot PIE Chart only\n",
    "def pie(x = 'smoker', data = data, title = None):\n",
    "    if not title:\n",
    "        title = x;\n",
    "    values = data.groupby(x).size().values.tolist()\n",
    "    index = data.groupby(x).size().index.tolist()\n",
    "    def func(pct):\n",
    "        # percentage = int(pct / 100 * np.sum(values))\n",
    "        return \"{:.1f}%\".format(pct)\n",
    "    plt.figure(figsize=(20, 5))\n",
    "    plt.pie(values, autopct = lambda pct: func(pct))\n",
    "    plt.legend(index, title = 'Index')\n",
    "    plt.title(f\"{title} Pie Chart\")"
   ]
  },
  {
   "cell_type": "code",
   "execution_count": 5,
   "id": "39fe4a2b-1920-4c31-9dbb-bb5e72e1e271",
   "metadata": {},
   "outputs": [],
   "source": [
    "# This function for make summary for Numeric Features\n",
    "def summarize(feature):\n",
    "    mn = data[feature].min()\n",
    "    mx = data[feature].max()\n",
    "    q1 = data[feature].quantile(0.25)\n",
    "    q2 = data[feature].quantile(0.50)\n",
    "    q3 = data[feature].quantile(0.75)\n",
    "    mean = data[feature].mean()\n",
    "    std = data[feature].std()\n",
    "    print(f\"Min Value: {mn}\\nMax Value: {mx}\\nQ1: {q1}\\nQ2: {q2}\\nQ3: {q3}\\nMean: {mean}\\nSTD: {std}\")"
   ]
  },
  {
   "cell_type": "markdown",
   "id": "84caf069-0b19-4db5-861c-2789def6fda6",
   "metadata": {},
   "source": [
    "----"
   ]
  },
  {
   "cell_type": "code",
   "execution_count": 6,
   "id": "ff29f79e-6b82-4121-b5c5-1072b4ff4bd1",
   "metadata": {},
   "outputs": [
    {
     "data": {
      "text/html": [
       "<div>\n",
       "<style scoped>\n",
       "    .dataframe tbody tr th:only-of-type {\n",
       "        vertical-align: middle;\n",
       "    }\n",
       "\n",
       "    .dataframe tbody tr th {\n",
       "        vertical-align: top;\n",
       "    }\n",
       "\n",
       "    .dataframe thead th {\n",
       "        text-align: right;\n",
       "    }\n",
       "</style>\n",
       "<table border=\"1\" class=\"dataframe\">\n",
       "  <thead>\n",
       "    <tr style=\"text-align: right;\">\n",
       "      <th></th>\n",
       "      <th>count</th>\n",
       "      <th>mean</th>\n",
       "      <th>std</th>\n",
       "      <th>min</th>\n",
       "      <th>25%</th>\n",
       "      <th>50%</th>\n",
       "      <th>75%</th>\n",
       "      <th>max</th>\n",
       "    </tr>\n",
       "  </thead>\n",
       "  <tbody>\n",
       "    <tr>\n",
       "      <th>age</th>\n",
       "      <td>1338.0</td>\n",
       "      <td>39.207025</td>\n",
       "      <td>14.049960</td>\n",
       "      <td>18.0000</td>\n",
       "      <td>27.00000</td>\n",
       "      <td>39.000</td>\n",
       "      <td>51.000000</td>\n",
       "      <td>64.00000</td>\n",
       "    </tr>\n",
       "    <tr>\n",
       "      <th>bmi</th>\n",
       "      <td>1338.0</td>\n",
       "      <td>30.663397</td>\n",
       "      <td>6.098187</td>\n",
       "      <td>15.9600</td>\n",
       "      <td>26.29625</td>\n",
       "      <td>30.400</td>\n",
       "      <td>34.693750</td>\n",
       "      <td>53.13000</td>\n",
       "    </tr>\n",
       "    <tr>\n",
       "      <th>children</th>\n",
       "      <td>1338.0</td>\n",
       "      <td>1.094918</td>\n",
       "      <td>1.205493</td>\n",
       "      <td>0.0000</td>\n",
       "      <td>0.00000</td>\n",
       "      <td>1.000</td>\n",
       "      <td>2.000000</td>\n",
       "      <td>5.00000</td>\n",
       "    </tr>\n",
       "    <tr>\n",
       "      <th>charges</th>\n",
       "      <td>1338.0</td>\n",
       "      <td>13270.422265</td>\n",
       "      <td>12110.011237</td>\n",
       "      <td>1121.8739</td>\n",
       "      <td>4740.28715</td>\n",
       "      <td>9382.033</td>\n",
       "      <td>16639.912515</td>\n",
       "      <td>63770.42801</td>\n",
       "    </tr>\n",
       "  </tbody>\n",
       "</table>\n",
       "</div>"
      ],
      "text/plain": [
       "           count          mean           std        min         25%       50%  \\\n",
       "age       1338.0     39.207025     14.049960    18.0000    27.00000    39.000   \n",
       "bmi       1338.0     30.663397      6.098187    15.9600    26.29625    30.400   \n",
       "children  1338.0      1.094918      1.205493     0.0000     0.00000     1.000   \n",
       "charges   1338.0  13270.422265  12110.011237  1121.8739  4740.28715  9382.033   \n",
       "\n",
       "                   75%          max  \n",
       "age          51.000000     64.00000  \n",
       "bmi          34.693750     53.13000  \n",
       "children      2.000000      5.00000  \n",
       "charges   16639.912515  63770.42801  "
      ]
     },
     "execution_count": 6,
     "metadata": {},
     "output_type": "execute_result"
    }
   ],
   "source": [
    "# Statistical Summery for our dataset\n",
    "data.describe().T"
   ]
  },
  {
   "cell_type": "code",
   "execution_count": 7,
   "id": "519adb28-c194-4cbb-b13e-fb1a7fca5f8f",
   "metadata": {},
   "outputs": [
    {
     "name": "stdout",
     "output_type": "stream",
     "text": [
      "<class 'pandas.core.frame.DataFrame'>\n",
      "RangeIndex: 1338 entries, 0 to 1337\n",
      "Data columns (total 7 columns):\n",
      " #   Column    Non-Null Count  Dtype  \n",
      "---  ------    --------------  -----  \n",
      " 0   age       1338 non-null   int64  \n",
      " 1   sex       1338 non-null   object \n",
      " 2   bmi       1338 non-null   float64\n",
      " 3   children  1338 non-null   int64  \n",
      " 4   smoker    1338 non-null   object \n",
      " 5   region    1338 non-null   object \n",
      " 6   charges   1338 non-null   float64\n",
      "dtypes: float64(2), int64(2), object(3)\n",
      "memory usage: 73.3+ KB\n"
     ]
    }
   ],
   "source": [
    "data.info()"
   ]
  },
  {
   "cell_type": "markdown",
   "id": "f14a566c-adb3-4497-8361-5a6896868b32",
   "metadata": {},
   "source": [
    "**Observation**\n",
    "* There is no Null Data in this dataset\n",
    "* There is 7 feature 4 Numeric and 3 Object (String)"
   ]
  },
  {
   "cell_type": "markdown",
   "id": "71dc9896-b1a1-4e62-88a2-f9fcec58cab8",
   "metadata": {},
   "source": [
    "-----"
   ]
  },
  {
   "cell_type": "markdown",
   "id": "8c973984-2ed9-4e25-94d9-e7524d6f9096",
   "metadata": {},
   "source": [
    "**Feature Engineering**\n",
    "* BMI between 18.5 and 24.9 Consider as `Normal`\n",
    "* Less 18.5 and greater that 24.9 Consider `Upnormal`\n",
    "\n",
    "**Weight Status**\n",
    "* `18.5` and below **Underweight**\n",
    "* `18.5` - `24.9` **Healthy Weight**\n",
    "* `25.0` - `29.9` **Overweight**\n",
    "* `30 and above` **Obesity** "
   ]
  },
  {
   "cell_type": "code",
   "execution_count": 8,
   "id": "22c6722a-5204-4876-ae2a-ab8b125726e4",
   "metadata": {},
   "outputs": [],
   "source": [
    "# Let's make a New Feature that describe the bmi is normal or upnormal \n",
    "data['Weight'] = ((data['bmi'] < 18.5) | (data['bmi'] > 24.9)).map({True: 'UpNormal', False: 'Normal'})"
   ]
  },
  {
   "cell_type": "code",
   "execution_count": 9,
   "id": "a5fdbb01-c207-44eb-9a07-9908e08f2c46",
   "metadata": {},
   "outputs": [],
   "source": [
    "# Let's make a new feature that describe each BMI is [Underweight, Healthy Weight, Overweight, Obesity]\n",
    "def convert_value(x):\n",
    "    if x >= 30:\n",
    "        return 'Obesity'\n",
    "    elif x >= 25:\n",
    "        return 'Overweight'\n",
    "    elif x >= 18.5:\n",
    "        return 'Healthy Weight'\n",
    "    else:\n",
    "        return 'Underweight'\n",
    "data['WeightStatus'] = data['bmi'].map(lambda x: convert_value(x))"
   ]
  },
  {
   "cell_type": "code",
   "execution_count": 10,
   "id": "573dd4d7-190a-43f4-810a-e154e887b6f9",
   "metadata": {},
   "outputs": [
    {
     "data": {
      "text/plain": [
       "array(['UpNormal', 'Normal'], dtype=object)"
      ]
     },
     "execution_count": 10,
     "metadata": {},
     "output_type": "execute_result"
    }
   ],
   "source": [
    "data['Weight'].unique()"
   ]
  },
  {
   "cell_type": "code",
   "execution_count": 11,
   "id": "76903f20-5ba7-43db-bfd5-103946922a9b",
   "metadata": {},
   "outputs": [
    {
     "data": {
      "text/plain": [
       "array(['Overweight', 'Obesity', 'Healthy Weight', 'Underweight'],\n",
       "      dtype=object)"
      ]
     },
     "execution_count": 11,
     "metadata": {},
     "output_type": "execute_result"
    }
   ],
   "source": [
    "data['WeightStatus'].unique()"
   ]
  },
  {
   "cell_type": "code",
   "execution_count": 12,
   "id": "1e08aa3c-b162-4a27-a48e-c2b96493f21d",
   "metadata": {},
   "outputs": [
    {
     "data": {
      "text/html": [
       "<div>\n",
       "<style scoped>\n",
       "    .dataframe tbody tr th:only-of-type {\n",
       "        vertical-align: middle;\n",
       "    }\n",
       "\n",
       "    .dataframe tbody tr th {\n",
       "        vertical-align: top;\n",
       "    }\n",
       "\n",
       "    .dataframe thead th {\n",
       "        text-align: right;\n",
       "    }\n",
       "</style>\n",
       "<table border=\"1\" class=\"dataframe\">\n",
       "  <thead>\n",
       "    <tr style=\"text-align: right;\">\n",
       "      <th></th>\n",
       "      <th>age</th>\n",
       "      <th>sex</th>\n",
       "      <th>bmi</th>\n",
       "      <th>children</th>\n",
       "      <th>smoker</th>\n",
       "      <th>region</th>\n",
       "      <th>charges</th>\n",
       "      <th>Weight</th>\n",
       "      <th>WeightStatus</th>\n",
       "    </tr>\n",
       "  </thead>\n",
       "  <tbody>\n",
       "    <tr>\n",
       "      <th>0</th>\n",
       "      <td>19</td>\n",
       "      <td>female</td>\n",
       "      <td>27.900</td>\n",
       "      <td>0</td>\n",
       "      <td>yes</td>\n",
       "      <td>southwest</td>\n",
       "      <td>16884.92400</td>\n",
       "      <td>UpNormal</td>\n",
       "      <td>Overweight</td>\n",
       "    </tr>\n",
       "    <tr>\n",
       "      <th>1</th>\n",
       "      <td>18</td>\n",
       "      <td>male</td>\n",
       "      <td>33.770</td>\n",
       "      <td>1</td>\n",
       "      <td>no</td>\n",
       "      <td>southeast</td>\n",
       "      <td>1725.55230</td>\n",
       "      <td>UpNormal</td>\n",
       "      <td>Obesity</td>\n",
       "    </tr>\n",
       "    <tr>\n",
       "      <th>2</th>\n",
       "      <td>28</td>\n",
       "      <td>male</td>\n",
       "      <td>33.000</td>\n",
       "      <td>3</td>\n",
       "      <td>no</td>\n",
       "      <td>southeast</td>\n",
       "      <td>4449.46200</td>\n",
       "      <td>UpNormal</td>\n",
       "      <td>Obesity</td>\n",
       "    </tr>\n",
       "    <tr>\n",
       "      <th>3</th>\n",
       "      <td>33</td>\n",
       "      <td>male</td>\n",
       "      <td>22.705</td>\n",
       "      <td>0</td>\n",
       "      <td>no</td>\n",
       "      <td>northwest</td>\n",
       "      <td>21984.47061</td>\n",
       "      <td>Normal</td>\n",
       "      <td>Healthy Weight</td>\n",
       "    </tr>\n",
       "    <tr>\n",
       "      <th>4</th>\n",
       "      <td>32</td>\n",
       "      <td>male</td>\n",
       "      <td>28.880</td>\n",
       "      <td>0</td>\n",
       "      <td>no</td>\n",
       "      <td>northwest</td>\n",
       "      <td>3866.85520</td>\n",
       "      <td>UpNormal</td>\n",
       "      <td>Overweight</td>\n",
       "    </tr>\n",
       "    <tr>\n",
       "      <th>...</th>\n",
       "      <td>...</td>\n",
       "      <td>...</td>\n",
       "      <td>...</td>\n",
       "      <td>...</td>\n",
       "      <td>...</td>\n",
       "      <td>...</td>\n",
       "      <td>...</td>\n",
       "      <td>...</td>\n",
       "      <td>...</td>\n",
       "    </tr>\n",
       "    <tr>\n",
       "      <th>1333</th>\n",
       "      <td>50</td>\n",
       "      <td>male</td>\n",
       "      <td>30.970</td>\n",
       "      <td>3</td>\n",
       "      <td>no</td>\n",
       "      <td>northwest</td>\n",
       "      <td>10600.54830</td>\n",
       "      <td>UpNormal</td>\n",
       "      <td>Obesity</td>\n",
       "    </tr>\n",
       "    <tr>\n",
       "      <th>1334</th>\n",
       "      <td>18</td>\n",
       "      <td>female</td>\n",
       "      <td>31.920</td>\n",
       "      <td>0</td>\n",
       "      <td>no</td>\n",
       "      <td>northeast</td>\n",
       "      <td>2205.98080</td>\n",
       "      <td>UpNormal</td>\n",
       "      <td>Obesity</td>\n",
       "    </tr>\n",
       "    <tr>\n",
       "      <th>1335</th>\n",
       "      <td>18</td>\n",
       "      <td>female</td>\n",
       "      <td>36.850</td>\n",
       "      <td>0</td>\n",
       "      <td>no</td>\n",
       "      <td>southeast</td>\n",
       "      <td>1629.83350</td>\n",
       "      <td>UpNormal</td>\n",
       "      <td>Obesity</td>\n",
       "    </tr>\n",
       "    <tr>\n",
       "      <th>1336</th>\n",
       "      <td>21</td>\n",
       "      <td>female</td>\n",
       "      <td>25.800</td>\n",
       "      <td>0</td>\n",
       "      <td>no</td>\n",
       "      <td>southwest</td>\n",
       "      <td>2007.94500</td>\n",
       "      <td>UpNormal</td>\n",
       "      <td>Overweight</td>\n",
       "    </tr>\n",
       "    <tr>\n",
       "      <th>1337</th>\n",
       "      <td>61</td>\n",
       "      <td>female</td>\n",
       "      <td>29.070</td>\n",
       "      <td>0</td>\n",
       "      <td>yes</td>\n",
       "      <td>northwest</td>\n",
       "      <td>29141.36030</td>\n",
       "      <td>UpNormal</td>\n",
       "      <td>Overweight</td>\n",
       "    </tr>\n",
       "  </tbody>\n",
       "</table>\n",
       "<p>1338 rows × 9 columns</p>\n",
       "</div>"
      ],
      "text/plain": [
       "      age     sex     bmi  children smoker     region      charges    Weight  \\\n",
       "0      19  female  27.900         0    yes  southwest  16884.92400  UpNormal   \n",
       "1      18    male  33.770         1     no  southeast   1725.55230  UpNormal   \n",
       "2      28    male  33.000         3     no  southeast   4449.46200  UpNormal   \n",
       "3      33    male  22.705         0     no  northwest  21984.47061    Normal   \n",
       "4      32    male  28.880         0     no  northwest   3866.85520  UpNormal   \n",
       "...   ...     ...     ...       ...    ...        ...          ...       ...   \n",
       "1333   50    male  30.970         3     no  northwest  10600.54830  UpNormal   \n",
       "1334   18  female  31.920         0     no  northeast   2205.98080  UpNormal   \n",
       "1335   18  female  36.850         0     no  southeast   1629.83350  UpNormal   \n",
       "1336   21  female  25.800         0     no  southwest   2007.94500  UpNormal   \n",
       "1337   61  female  29.070         0    yes  northwest  29141.36030  UpNormal   \n",
       "\n",
       "        WeightStatus  \n",
       "0         Overweight  \n",
       "1            Obesity  \n",
       "2            Obesity  \n",
       "3     Healthy Weight  \n",
       "4         Overweight  \n",
       "...              ...  \n",
       "1333         Obesity  \n",
       "1334         Obesity  \n",
       "1335         Obesity  \n",
       "1336      Overweight  \n",
       "1337      Overweight  \n",
       "\n",
       "[1338 rows x 9 columns]"
      ]
     },
     "execution_count": 12,
     "metadata": {},
     "output_type": "execute_result"
    }
   ],
   "source": [
    "data"
   ]
  },
  {
   "cell_type": "markdown",
   "id": "9896edaf-b6f9-4ed7-a03f-820b4172f653",
   "metadata": {},
   "source": [
    "<h1>EDA For Categorical Data</h1>"
   ]
  },
  {
   "cell_type": "markdown",
   "id": "0ba44464-55b8-4bbb-9e15-a14dad0a342f",
   "metadata": {},
   "source": [
    "<h3>Weight</h3>"
   ]
  },
  {
   "cell_type": "code",
   "execution_count": 13,
   "id": "9bbd27e8-1834-4b63-8e0c-476be495aca1",
   "metadata": {},
   "outputs": [
    {
     "data": {
      "text/plain": [
       "<AxesSubplot:xlabel='Weight', ylabel='count'>"
      ]
     },
     "execution_count": 13,
     "metadata": {},
     "output_type": "execute_result"
    },
    {
     "data": {
      "image/png": "[encoded data removed]",
      "text/plain": [
       "<Figure size 432x288 with 1 Axes>"
      ]
     },
     "metadata": {},
     "output_type": "display_data"
    }
   ],
   "source": [
    "sns.countplot(x = data['Weight'])"
   ]
  },
  {
   "cell_type": "code",
   "execution_count": 14,
   "id": "696871e5-4f5c-46c6-914e-be09046ac998",
   "metadata": {},
   "outputs": [
    {
     "data": {
      "image/png": "[encoded data removed]",
      "text/plain": [
       "<Figure size 1440x360 with 1 Axes>"
      ]
     },
     "metadata": {},
     "output_type": "display_data"
    }
   ],
   "source": [
    "pie('Weight')"
   ]
  },
  {
   "cell_type": "code",
   "execution_count": 15,
   "id": "e53f8d06-a70d-41ac-bded-fd3cef7e6838",
   "metadata": {},
   "outputs": [
    {
     "data": {
      "text/plain": [
       "<AxesSubplot:xlabel='Weight', ylabel='charges'>"
      ]
     },
     "execution_count": 15,
     "metadata": {},
     "output_type": "execute_result"
    },
    {
     "data": {
      "image/png": "[encoded data removed]",
      "text/plain": [
       "<Figure size 432x288 with 1 Axes>"
      ]
     },
     "metadata": {},
     "output_type": "display_data"
    }
   ],
   "source": [
    "sns.barplot(x = 'Weight', y = 'charges', data = data)"
   ]
  },
  {
   "cell_type": "code",
   "execution_count": 16,
   "id": "9442c914-666b-48df-85d4-67c785cdf2bf",
   "metadata": {},
   "outputs": [
    {
     "data": {
      "text/plain": [
       "<AxesSubplot:xlabel='Weight', ylabel='count'>"
      ]
     },
     "execution_count": 16,
     "metadata": {},
     "output_type": "execute_result"
    },
    {
     "data": {
      "image/png": "[encoded data removed]",
      "text/plain": [
       "<Figure size 432x288 with 1 Axes>"
      ]
     },
     "metadata": {},
     "output_type": "display_data"
    }
   ],
   "source": [
    "sns.countplot(x = data['Weight'], hue = data['smoker'])"
   ]
  },
  {
   "cell_type": "code",
   "execution_count": 17,
   "id": "ca31f126-4fb4-488c-af9c-56c0e90f5c6c",
   "metadata": {},
   "outputs": [
    {
     "data": {
      "text/plain": [
       "<AxesSubplot:xlabel='Weight', ylabel='children'>"
      ]
     },
     "execution_count": 17,
     "metadata": {},
     "output_type": "execute_result"
    },
    {
     "data": {
      "image/png": "[encoded data removed]",
      "text/plain": [
       "<Figure size 432x288 with 1 Axes>"
      ]
     },
     "metadata": {},
     "output_type": "display_data"
    }
   ],
   "source": [
    "sns.barplot(x = data['Weight'], y = data['children'], estimator=np.sum)"
   ]
  },
  {
   "cell_type": "code",
   "execution_count": 18,
   "id": "3b663efa-1a79-461a-99b7-5fb846dbefaa",
   "metadata": {},
   "outputs": [
    {
     "data": {
      "text/plain": [
       "<AxesSubplot:xlabel='Weight', ylabel='count'>"
      ]
     },
     "execution_count": 18,
     "metadata": {},
     "output_type": "execute_result"
    },
    {
     "data": {
      "image/png": "[encoded data removed]",
      "text/plain": [
       "<Figure size 432x288 with 1 Axes>"
      ]
     },
     "metadata": {},
     "output_type": "display_data"
    }
   ],
   "source": [
    "sns.countplot(x = data['Weight'], hue = data['children'])"
   ]
  },
  {
   "cell_type": "code",
   "execution_count": 19,
   "id": "75b075e1-f4e0-40ac-93fc-d4e211b6ef0a",
   "metadata": {},
   "outputs": [
    {
     "data": {
      "text/plain": [
       "Weight\n",
       "Normal       248\n",
       "UpNormal    1217\n",
       "Name: children, dtype: int64"
      ]
     },
     "execution_count": 19,
     "metadata": {},
     "output_type": "execute_result"
    }
   ],
   "source": [
    "data['children'].groupby(data['Weight']).sum()"
   ]
  },
  {
   "cell_type": "markdown",
   "id": "744d17f4-6732-4bc2-8132-ea213a84702a",
   "metadata": {},
   "source": [
    "**Observation**\n",
    "* Number of UpNormal people is larger than normal people\n",
    "* `83.4%` Up Normal in dataset\n",
    "* UpNormal People Charges is **greater** than Normal\n",
    "* UpNormal People has `83%` children but Normal people has `17%`"
   ]
  },
  {
   "cell_type": "markdown",
   "id": "a13ee1a2-c621-4127-9c35-0d9dcaf2e8b6",
   "metadata": {},
   "source": [
    "-----\n",
    "<h3>Weight Status</h3>"
   ]
  },
  {
   "cell_type": "code",
   "execution_count": 20,
   "id": "c2449f85-8a0f-4632-ac4e-8f5589fb2724",
   "metadata": {},
   "outputs": [
    {
     "data": {
      "text/plain": [
       "<AxesSubplot:xlabel='WeightStatus', ylabel='count'>"
      ]
     },
     "execution_count": 20,
     "metadata": {},
     "output_type": "execute_result"
    },
    {
     "data": {
      "image/png": "[encoded data removed]",
      "text/plain": [
       "<Figure size 432x288 with 1 Axes>"
      ]
     },
     "metadata": {},
     "output_type": "display_data"
    }
   ],
   "source": [
    "sns.countplot(x = data['WeightStatus'])"
   ]
  },
  {
   "cell_type": "code",
   "execution_count": 21,
   "id": "8aac994a-a3b3-43a0-8835-8efe018a5cf9",
   "metadata": {},
   "outputs": [
    {
     "data": {
      "image/png": "[encoded data removed]",
      "text/plain": [
       "<Figure size 1440x360 with 1 Axes>"
      ]
     },
     "metadata": {},
     "output_type": "display_data"
    }
   ],
   "source": [
    "pie('WeightStatus')"
   ]
  },
  {
   "cell_type": "code",
   "execution_count": 22,
   "id": "83be107d-bce7-46ca-9635-4344eb4ae6ce",
   "metadata": {},
   "outputs": [
    {
     "data": {
      "text/plain": [
       "<AxesSubplot:xlabel='smoker', ylabel='count'>"
      ]
     },
     "execution_count": 22,
     "metadata": {},
     "output_type": "execute_result"
    },
    {
     "data": {
      "image/png": "[encoded data removed]",
      "text/plain": [
       "<Figure size 432x288 with 1 Axes>"
      ]
     },
     "metadata": {},
     "output_type": "display_data"
    }
   ],
   "source": [
    "sns.countplot(x = data['smoker'], hue = data['WeightStatus'])"
   ]
  },
  {
   "cell_type": "code",
   "execution_count": 23,
   "id": "34df06b0-a934-4d48-863d-e6d15a0c5431",
   "metadata": {},
   "outputs": [
    {
     "data": {
      "text/html": [
       "<div>\n",
       "<style scoped>\n",
       "    .dataframe tbody tr th:only-of-type {\n",
       "        vertical-align: middle;\n",
       "    }\n",
       "\n",
       "    .dataframe tbody tr th {\n",
       "        vertical-align: top;\n",
       "    }\n",
       "\n",
       "    .dataframe thead th {\n",
       "        text-align: right;\n",
       "    }\n",
       "</style>\n",
       "<table border=\"1\" class=\"dataframe\">\n",
       "  <thead>\n",
       "    <tr style=\"text-align: right;\">\n",
       "      <th></th>\n",
       "      <th></th>\n",
       "      <th>Count</th>\n",
       "    </tr>\n",
       "    <tr>\n",
       "      <th>smoker</th>\n",
       "      <th>WeightStatus</th>\n",
       "      <th></th>\n",
       "    </tr>\n",
       "  </thead>\n",
       "  <tbody>\n",
       "    <tr>\n",
       "      <th rowspan=\"4\" valign=\"top\">no</th>\n",
       "      <th>Healthy Weight</th>\n",
       "      <td>175</td>\n",
       "    </tr>\n",
       "    <tr>\n",
       "      <th>Obesity</th>\n",
       "      <td>562</td>\n",
       "    </tr>\n",
       "    <tr>\n",
       "      <th>Overweight</th>\n",
       "      <td>312</td>\n",
       "    </tr>\n",
       "    <tr>\n",
       "      <th>Underweight</th>\n",
       "      <td>15</td>\n",
       "    </tr>\n",
       "    <tr>\n",
       "      <th rowspan=\"4\" valign=\"top\">yes</th>\n",
       "      <th>Healthy Weight</th>\n",
       "      <td>50</td>\n",
       "    </tr>\n",
       "    <tr>\n",
       "      <th>Obesity</th>\n",
       "      <td>145</td>\n",
       "    </tr>\n",
       "    <tr>\n",
       "      <th>Overweight</th>\n",
       "      <td>74</td>\n",
       "    </tr>\n",
       "    <tr>\n",
       "      <th>Underweight</th>\n",
       "      <td>5</td>\n",
       "    </tr>\n",
       "  </tbody>\n",
       "</table>\n",
       "</div>"
      ],
      "text/plain": [
       "                       Count\n",
       "smoker WeightStatus         \n",
       "no     Healthy Weight    175\n",
       "       Obesity           562\n",
       "       Overweight        312\n",
       "       Underweight        15\n",
       "yes    Healthy Weight     50\n",
       "       Obesity           145\n",
       "       Overweight         74\n",
       "       Underweight         5"
      ]
     },
     "execution_count": 23,
     "metadata": {},
     "output_type": "execute_result"
    }
   ],
   "source": [
    "data.groupby(['smoker', 'WeightStatus']).count()['age'].to_frame(name='Count')"
   ]
  },
  {
   "cell_type": "code",
   "execution_count": 24,
   "id": "039581b3-6390-42b8-9a4a-8ec7714ace45",
   "metadata": {},
   "outputs": [
    {
     "data": {
      "text/plain": [
       "<AxesSubplot:xlabel='WeightStatus', ylabel='count'>"
      ]
     },
     "execution_count": 24,
     "metadata": {},
     "output_type": "execute_result"
    },
    {
     "data": {
      "image/png": "[encoded data removed]",
      "text/plain": [
       "<Figure size 432x288 with 1 Axes>"
      ]
     },
     "metadata": {},
     "output_type": "display_data"
    }
   ],
   "source": [
    "sns.countplot(x = data['WeightStatus'], hue = data['sex'])"
   ]
  },
  {
   "cell_type": "code",
   "execution_count": 25,
   "id": "379f50c4-366b-4846-b067-bcc141572c62",
   "metadata": {},
   "outputs": [
    {
     "data": {
      "text/plain": [
       "<AxesSubplot:xlabel='region', ylabel='count'>"
      ]
     },
     "execution_count": 25,
     "metadata": {},
     "output_type": "execute_result"
    },
    {
     "data": {
      "image/png": "[encoded data removed]",
      "text/plain": [
       "<Figure size 432x288 with 1 Axes>"
      ]
     },
     "metadata": {},
     "output_type": "display_data"
    }
   ],
   "source": [
    "sns.countplot(x = data['region'], hue = data['WeightStatus'])"
   ]
  },
  {
   "cell_type": "code",
   "execution_count": 26,
   "id": "fca6b162-b1e7-409f-8eae-e46bb4541ac3",
   "metadata": {},
   "outputs": [
    {
     "data": {
      "text/html": [
       "<div>\n",
       "<style scoped>\n",
       "    .dataframe tbody tr th:only-of-type {\n",
       "        vertical-align: middle;\n",
       "    }\n",
       "\n",
       "    .dataframe tbody tr th {\n",
       "        vertical-align: top;\n",
       "    }\n",
       "\n",
       "    .dataframe thead th {\n",
       "        text-align: right;\n",
       "    }\n",
       "</style>\n",
       "<table border=\"1\" class=\"dataframe\">\n",
       "  <thead>\n",
       "    <tr style=\"text-align: right;\">\n",
       "      <th></th>\n",
       "      <th></th>\n",
       "      <th>Count</th>\n",
       "    </tr>\n",
       "    <tr>\n",
       "      <th>region</th>\n",
       "      <th>WeightStatus</th>\n",
       "      <th></th>\n",
       "    </tr>\n",
       "  </thead>\n",
       "  <tbody>\n",
       "    <tr>\n",
       "      <th rowspan=\"4\" valign=\"top\">northeast</th>\n",
       "      <th>Healthy Weight</th>\n",
       "      <td>73</td>\n",
       "    </tr>\n",
       "    <tr>\n",
       "      <th>Obesity</th>\n",
       "      <td>143</td>\n",
       "    </tr>\n",
       "    <tr>\n",
       "      <th>Overweight</th>\n",
       "      <td>98</td>\n",
       "    </tr>\n",
       "    <tr>\n",
       "      <th>Underweight</th>\n",
       "      <td>10</td>\n",
       "    </tr>\n",
       "    <tr>\n",
       "      <th rowspan=\"4\" valign=\"top\">northwest</th>\n",
       "      <th>Healthy Weight</th>\n",
       "      <td>63</td>\n",
       "    </tr>\n",
       "    <tr>\n",
       "      <th>Obesity</th>\n",
       "      <td>148</td>\n",
       "    </tr>\n",
       "    <tr>\n",
       "      <th>Overweight</th>\n",
       "      <td>107</td>\n",
       "    </tr>\n",
       "    <tr>\n",
       "      <th>Underweight</th>\n",
       "      <td>7</td>\n",
       "    </tr>\n",
       "    <tr>\n",
       "      <th rowspan=\"3\" valign=\"top\">southeast</th>\n",
       "      <th>Healthy Weight</th>\n",
       "      <td>41</td>\n",
       "    </tr>\n",
       "    <tr>\n",
       "      <th>Obesity</th>\n",
       "      <td>243</td>\n",
       "    </tr>\n",
       "    <tr>\n",
       "      <th>Overweight</th>\n",
       "      <td>80</td>\n",
       "    </tr>\n",
       "    <tr>\n",
       "      <th rowspan=\"4\" valign=\"top\">southwest</th>\n",
       "      <th>Healthy Weight</th>\n",
       "      <td>48</td>\n",
       "    </tr>\n",
       "    <tr>\n",
       "      <th>Obesity</th>\n",
       "      <td>173</td>\n",
       "    </tr>\n",
       "    <tr>\n",
       "      <th>Overweight</th>\n",
       "      <td>101</td>\n",
       "    </tr>\n",
       "    <tr>\n",
       "      <th>Underweight</th>\n",
       "      <td>3</td>\n",
       "    </tr>\n",
       "  </tbody>\n",
       "</table>\n",
       "</div>"
      ],
      "text/plain": [
       "                          Count\n",
       "region    WeightStatus         \n",
       "northeast Healthy Weight     73\n",
       "          Obesity           143\n",
       "          Overweight         98\n",
       "          Underweight        10\n",
       "northwest Healthy Weight     63\n",
       "          Obesity           148\n",
       "          Overweight        107\n",
       "          Underweight         7\n",
       "southeast Healthy Weight     41\n",
       "          Obesity           243\n",
       "          Overweight         80\n",
       "southwest Healthy Weight     48\n",
       "          Obesity           173\n",
       "          Overweight        101\n",
       "          Underweight         3"
      ]
     },
     "execution_count": 26,
     "metadata": {},
     "output_type": "execute_result"
    }
   ],
   "source": [
    "data.groupby([data['region'],data['WeightStatus']]).agg('count')['age'].to_frame(name='Count')"
   ]
  },
  {
   "cell_type": "code",
   "execution_count": 27,
   "id": "b3ed1c59-b5b8-4b95-9140-fd10c2d686cd",
   "metadata": {},
   "outputs": [
    {
     "data": {
      "text/plain": [
       "<AxesSubplot:xlabel='WeightStatus', ylabel='charges'>"
      ]
     },
     "execution_count": 27,
     "metadata": {},
     "output_type": "execute_result"
    },
    {
     "data": {
      "image/png": "[encoded data removed]",
      "text/plain": [
       "<Figure size 432x288 with 1 Axes>"
      ]
     },
     "metadata": {},
     "output_type": "display_data"
    }
   ],
   "source": [
    "sns.barplot(x = data['WeightStatus'], y = data['charges'], estimator = np.mean)"
   ]
  },
  {
   "cell_type": "code",
   "execution_count": 28,
   "id": "456d1605-4761-45be-927d-faa91f4efea1",
   "metadata": {},
   "outputs": [
    {
     "data": {
      "text/html": [
       "<div>\n",
       "<style scoped>\n",
       "    .dataframe tbody tr th:only-of-type {\n",
       "        vertical-align: middle;\n",
       "    }\n",
       "\n",
       "    .dataframe tbody tr th {\n",
       "        vertical-align: top;\n",
       "    }\n",
       "\n",
       "    .dataframe thead th {\n",
       "        text-align: right;\n",
       "    }\n",
       "</style>\n",
       "<table border=\"1\" class=\"dataframe\">\n",
       "  <thead>\n",
       "    <tr style=\"text-align: right;\">\n",
       "      <th></th>\n",
       "      <th>Avg. Charges</th>\n",
       "    </tr>\n",
       "    <tr>\n",
       "      <th>WeightStatus</th>\n",
       "      <th></th>\n",
       "    </tr>\n",
       "  </thead>\n",
       "  <tbody>\n",
       "    <tr>\n",
       "      <th>Obesity</th>\n",
       "      <td>15552.335469</td>\n",
       "    </tr>\n",
       "    <tr>\n",
       "      <th>Overweight</th>\n",
       "      <td>10987.509891</td>\n",
       "    </tr>\n",
       "    <tr>\n",
       "      <th>Healthy Weight</th>\n",
       "      <td>10409.337709</td>\n",
       "    </tr>\n",
       "    <tr>\n",
       "      <th>Underweight</th>\n",
       "      <td>8852.200585</td>\n",
       "    </tr>\n",
       "  </tbody>\n",
       "</table>\n",
       "</div>"
      ],
      "text/plain": [
       "                Avg. Charges\n",
       "WeightStatus                \n",
       "Obesity         15552.335469\n",
       "Overweight      10987.509891\n",
       "Healthy Weight  10409.337709\n",
       "Underweight      8852.200585"
      ]
     },
     "execution_count": 28,
     "metadata": {},
     "output_type": "execute_result"
    }
   ],
   "source": [
    "frame = data['charges'].groupby(data['WeightStatus']).mean().to_frame(name='Avg. Charges').sort_values(by=['Avg. Charges'], ascending=False)\n",
    "frame"
   ]
  },
  {
   "cell_type": "code",
   "execution_count": 30,
   "id": "29b5a796-4a98-42d5-b8c6-f6e7386bc4a5",
   "metadata": {},
   "outputs": [
    {
     "data": {
      "text/plain": [
       "<AxesSubplot:ylabel='WeightStatus'>"
      ]
     },
     "execution_count": 30,
     "metadata": {},
     "output_type": "execute_result"
    },
    {
     "data": {
      "image/png": "[encoded data removed]",
      "text/plain": [
       "<Figure size 432x288 with 2 Axes>"
      ]
     },
     "metadata": {},
     "output_type": "display_data"
    }
   ],
   "source": [
    "sns.heatmap(frame)"
   ]
  },
  {
   "cell_type": "markdown",
   "id": "0ff7de9e-10a6-4de3-8193-4ccd464383d1",
   "metadata": {},
   "source": [
    "**Observation**\n",
    "* Southeast has `243` Obesity People max region\n",
    "* northeast has `73` Healthy Weight max\n",
    "* Smoking doesn't affect in weight status\n",
    "* Obesity People Pay Max charges that other poeple"
   ]
  },
  {
   "cell_type": "markdown",
   "id": "85a4a7de-b128-407f-ae55-3592cb7cbb71",
   "metadata": {},
   "source": [
    "-----\n",
    "<h3>Sex</h3>"
   ]
  },
  {
   "cell_type": "code",
   "execution_count": 31,
   "id": "802cd82a-ab89-4d45-8cb9-2d8c59ed0e86",
   "metadata": {},
   "outputs": [
    {
     "data": {
      "text/plain": [
       "<AxesSubplot:xlabel='sex', ylabel='count'>"
      ]
     },
     "execution_count": 31,
     "metadata": {},
     "output_type": "execute_result"
    },
    {
     "data": {
      "image/png": "[encoded data removed]",
      "text/plain": [
       "<Figure size 432x288 with 1 Axes>"
      ]
     },
     "metadata": {},
     "output_type": "display_data"
    }
   ],
   "source": [
    "sns.countplot(x = data['sex'])"
   ]
  },
  {
   "cell_type": "code",
   "execution_count": 32,
   "id": "2cb9b050-1b01-462c-934f-41050a366bda",
   "metadata": {},
   "outputs": [
    {
     "data": {
      "text/plain": [
       "<AxesSubplot:xlabel='sex', ylabel='count'>"
      ]
     },
     "execution_count": 32,
     "metadata": {},
     "output_type": "execute_result"
    },
    {
     "data": {
      "image/png": "[encoded data removed]",
      "text/plain": [
       "<Figure size 1080x360 with 1 Axes>"
      ]
     },
     "metadata": {},
     "output_type": "display_data"
    }
   ],
   "source": [
    "plt.figure(figsize=(15, 5))\n",
    "sns.countplot(x = data['sex'], hue = data['Weight'])"
   ]
  },
  {
   "cell_type": "code",
   "execution_count": 33,
   "id": "aeadb90b-4ae7-43cc-a95c-a093c86461c6",
   "metadata": {},
   "outputs": [
    {
     "data": {
      "image/png": "[encoded data removed]",
      "text/plain": [
       "<Figure size 1440x360 with 1 Axes>"
      ]
     },
     "metadata": {},
     "output_type": "display_data"
    }
   ],
   "source": [
    "pie(x = 'sex')"
   ]
  },
  {
   "cell_type": "markdown",
   "id": "181cfdd8-804c-4c23-8776-a2ab8d919358",
   "metadata": {},
   "source": [
    "**Observation**\n",
    "* Data set is evenly distributed among Male and Female with `49.5%` **Female** and `50.5%` **Male**"
   ]
  },
  {
   "cell_type": "markdown",
   "id": "06c07c99-2ffd-4e09-8eb8-dcead4eb20f1",
   "metadata": {},
   "source": [
    "-----\n",
    "<h3>Smoker</h3>"
   ]
  },
  {
   "cell_type": "code",
   "execution_count": 34,
   "id": "9d57bc6b-48d0-456c-8b6b-c31f831a5d00",
   "metadata": {},
   "outputs": [
    {
     "data": {
      "text/plain": [
       "<AxesSubplot:xlabel='sex', ylabel='count'>"
      ]
     },
     "execution_count": 34,
     "metadata": {},
     "output_type": "execute_result"
    },
    {
     "data": {
      "image/png": "[encoded data removed]",
      "text/plain": [
       "<Figure size 432x288 with 1 Axes>"
      ]
     },
     "metadata": {},
     "output_type": "display_data"
    }
   ],
   "source": [
    "sns.countplot(x = data['sex'], hue = data['smoker'])"
   ]
  },
  {
   "cell_type": "code",
   "execution_count": 35,
   "id": "f7ae789d-862d-4ab7-912d-96ad9f253f20",
   "metadata": {},
   "outputs": [
    {
     "data": {
      "image/png": "[encoded data removed]",
      "text/plain": [
       "<Figure size 1440x360 with 1 Axes>"
      ]
     },
     "metadata": {},
     "output_type": "display_data"
    }
   ],
   "source": [
    "pie('smoker')"
   ]
  },
  {
   "cell_type": "code",
   "execution_count": 36,
   "id": "3bc67c3b-fc7b-4518-b898-c64b6251d107",
   "metadata": {},
   "outputs": [
    {
     "data": {
      "text/plain": [
       "<AxesSubplot:xlabel='region', ylabel='count'>"
      ]
     },
     "execution_count": 36,
     "metadata": {},
     "output_type": "execute_result"
    },
    {
     "data": {
      "image/png": "[encoded data removed]",
      "text/plain": [
       "<Figure size 432x288 with 1 Axes>"
      ]
     },
     "metadata": {},
     "output_type": "display_data"
    }
   ],
   "source": [
    "sns.countplot(x = data['region'], hue=data['smoker'])"
   ]
  },
  {
   "cell_type": "code",
   "execution_count": 37,
   "id": "71381b26-c3f2-4b93-9a25-b444eeb5812e",
   "metadata": {},
   "outputs": [
    {
     "data": {
      "text/plain": [
       "region\n",
       "northeast    324\n",
       "northwest    325\n",
       "southeast    364\n",
       "southwest    325\n",
       "Name: smoker, dtype: int64"
      ]
     },
     "execution_count": 37,
     "metadata": {},
     "output_type": "execute_result"
    }
   ],
   "source": [
    "data['smoker'].groupby(data['region']).count()"
   ]
  },
  {
   "cell_type": "code",
   "execution_count": 38,
   "id": "162fbcb6-dca7-4ac4-851b-bd6db57515ce",
   "metadata": {},
   "outputs": [
    {
     "data": {
      "text/plain": [
       "<AxesSubplot:xlabel='sex', ylabel='count'>"
      ]
     },
     "execution_count": 38,
     "metadata": {},
     "output_type": "execute_result"
    },
    {
     "data": {
      "image/png": "[encoded data removed]",
      "text/plain": [
       "<Figure size 432x288 with 1 Axes>"
      ]
     },
     "metadata": {},
     "output_type": "display_data"
    }
   ],
   "source": [
    "sns.countplot(data = data[data['region'] == 'southeast'], x = 'sex', hue='smoker')"
   ]
  },
  {
   "cell_type": "code",
   "execution_count": 39,
   "id": "a07e7db3-f5b9-4aa1-86bb-c39a14530aaf",
   "metadata": {},
   "outputs": [
    {
     "data": {
      "text/plain": [
       "<AxesSubplot:xlabel='smoker', ylabel='charges'>"
      ]
     },
     "execution_count": 39,
     "metadata": {},
     "output_type": "execute_result"
    },
    {
     "data": {
      "image/png": "[encoded data removed]",
      "text/plain": [
       "<Figure size 432x288 with 1 Axes>"
      ]
     },
     "metadata": {},
     "output_type": "display_data"
    }
   ],
   "source": [
    "sns.barplot(x = data['smoker'], y = data['charges'], estimator=np.mean)"
   ]
  },
  {
   "cell_type": "code",
   "execution_count": 40,
   "id": "86fd6efd-d5df-43c6-8b31-76f746ea03a7",
   "metadata": {},
   "outputs": [
    {
     "data": {
      "text/plain": [
       "smoker\n",
       "no      8434.268298\n",
       "yes    32050.231832\n",
       "Name: charges, dtype: float64"
      ]
     },
     "execution_count": 40,
     "metadata": {},
     "output_type": "execute_result"
    }
   ],
   "source": [
    "data.groupby('smoker')['charges'].mean()"
   ]
  },
  {
   "cell_type": "code",
   "execution_count": 41,
   "id": "2555e694-f570-4b27-97d8-93db397b1c24",
   "metadata": {},
   "outputs": [
    {
     "data": {
      "text/plain": [
       "<AxesSubplot:xlabel='smoker', ylabel='bmi'>"
      ]
     },
     "execution_count": 41,
     "metadata": {},
     "output_type": "execute_result"
    },
    {
     "data": {
      "image/png": "[encoded data removed]",
      "text/plain": [
       "<Figure size 432x288 with 1 Axes>"
      ]
     },
     "metadata": {},
     "output_type": "display_data"
    }
   ],
   "source": [
    "sns.barplot(x = data['smoker'], y = data['bmi'], estimator=np.mean)"
   ]
  },
  {
   "cell_type": "code",
   "execution_count": 42,
   "id": "8dddb49a-b4a4-49bb-bf13-83c0b0695548",
   "metadata": {},
   "outputs": [
    {
     "data": {
      "text/plain": [
       "smoker\n",
       "no     30.651795\n",
       "yes    30.708449\n",
       "Name: bmi, dtype: float64"
      ]
     },
     "execution_count": 42,
     "metadata": {},
     "output_type": "execute_result"
    }
   ],
   "source": [
    "data.groupby('smoker').mean()['bmi']"
   ]
  },
  {
   "cell_type": "markdown",
   "id": "ef9edc16-ab76-4a61-81bd-1a5e3e80b4c1",
   "metadata": {},
   "source": [
    "**Observation**\n",
    "* Number of smoker people (`20.5%`) is less than number of non-smoker people (`79.5%`) \n",
    "* Southeast contain the largest number of smoker people\n",
    "* Smoker Peole have alot of charges than non-smoker people\n",
    "* BMI is not affeceted by smoking"
   ]
  },
  {
   "cell_type": "markdown",
   "id": "fa0f35e0-43e7-4763-9bee-317cb632b362",
   "metadata": {},
   "source": [
    "----\n",
    "<h3>Region</h3>"
   ]
  },
  {
   "cell_type": "code",
   "execution_count": 43,
   "id": "6ff3829f-9a5e-4d5d-9b8a-3aa523fe1940",
   "metadata": {},
   "outputs": [
    {
     "data": {
      "text/plain": [
       "<AxesSubplot:xlabel='region', ylabel='count'>"
      ]
     },
     "execution_count": 43,
     "metadata": {},
     "output_type": "execute_result"
    },
    {
     "data": {
      "image/png": "[encoded data removed]",
      "text/plain": [
       "<Figure size 432x288 with 1 Axes>"
      ]
     },
     "metadata": {},
     "output_type": "display_data"
    }
   ],
   "source": [
    "sns.countplot(x = data['region'])"
   ]
  },
  {
   "cell_type": "code",
   "execution_count": 44,
   "id": "0a92b60f-c606-46ed-8262-782af02b6bef",
   "metadata": {},
   "outputs": [
    {
     "data": {
      "image/png": "[encoded data removed]",
      "text/plain": [
       "<Figure size 1440x360 with 1 Axes>"
      ]
     },
     "metadata": {},
     "output_type": "display_data"
    }
   ],
   "source": [
    "pie('region')"
   ]
  },
  {
   "cell_type": "code",
   "execution_count": 45,
   "id": "887e8b79-712f-402b-b837-c85bf0d3cc8f",
   "metadata": {},
   "outputs": [
    {
     "data": {
      "text/plain": [
       "<AxesSubplot:xlabel='region', ylabel='charges'>"
      ]
     },
     "execution_count": 45,
     "metadata": {},
     "output_type": "execute_result"
    },
    {
     "data": {
      "image/png": "[encoded data removed]",
      "text/plain": [
       "<Figure size 432x288 with 1 Axes>"
      ]
     },
     "metadata": {},
     "output_type": "display_data"
    }
   ],
   "source": [
    "sns.barplot(data = data, x = 'region', y = 'charges')"
   ]
  },
  {
   "cell_type": "code",
   "execution_count": 46,
   "id": "1028d249-60c4-4422-8110-89f8730610c3",
   "metadata": {},
   "outputs": [
    {
     "data": {
      "text/plain": [
       "region\n",
       "northeast    13406.384516\n",
       "northwest    12417.575374\n",
       "southeast    14735.411438\n",
       "southwest    12346.937377\n",
       "Name: charges, dtype: float64"
      ]
     },
     "execution_count": 46,
     "metadata": {},
     "output_type": "execute_result"
    }
   ],
   "source": [
    "data['charges'].groupby(data['region']).mean()"
   ]
  },
  {
   "cell_type": "code",
   "execution_count": 47,
   "id": "fd996593-79b5-4849-9349-e3110be9e674",
   "metadata": {},
   "outputs": [
    {
     "data": {
      "text/plain": [
       "<AxesSubplot:xlabel='region', ylabel='bmi'>"
      ]
     },
     "execution_count": 47,
     "metadata": {},
     "output_type": "execute_result"
    },
    {
     "data": {
      "image/png": "[encoded data removed]",
      "text/plain": [
       "<Figure size 432x288 with 1 Axes>"
      ]
     },
     "metadata": {},
     "output_type": "display_data"
    }
   ],
   "source": [
    "sns.barplot(data = data, x = 'region', y = 'bmi')"
   ]
  },
  {
   "cell_type": "code",
   "execution_count": 48,
   "id": "b5004323-70df-4624-b0dc-e8520aa60bf9",
   "metadata": {},
   "outputs": [
    {
     "data": {
      "text/html": [
       "<div>\n",
       "<style scoped>\n",
       "    .dataframe tbody tr th:only-of-type {\n",
       "        vertical-align: middle;\n",
       "    }\n",
       "\n",
       "    .dataframe tbody tr th {\n",
       "        vertical-align: top;\n",
       "    }\n",
       "\n",
       "    .dataframe thead th {\n",
       "        text-align: right;\n",
       "    }\n",
       "</style>\n",
       "<table border=\"1\" class=\"dataframe\">\n",
       "  <thead>\n",
       "    <tr style=\"text-align: right;\">\n",
       "      <th></th>\n",
       "      <th>bmi</th>\n",
       "    </tr>\n",
       "    <tr>\n",
       "      <th>region</th>\n",
       "      <th></th>\n",
       "    </tr>\n",
       "  </thead>\n",
       "  <tbody>\n",
       "    <tr>\n",
       "      <th>northeast</th>\n",
       "      <td>29.173503</td>\n",
       "    </tr>\n",
       "    <tr>\n",
       "      <th>northwest</th>\n",
       "      <td>29.199785</td>\n",
       "    </tr>\n",
       "    <tr>\n",
       "      <th>southeast</th>\n",
       "      <td>33.355989</td>\n",
       "    </tr>\n",
       "    <tr>\n",
       "      <th>southwest</th>\n",
       "      <td>30.596615</td>\n",
       "    </tr>\n",
       "  </tbody>\n",
       "</table>\n",
       "</div>"
      ],
      "text/plain": [
       "                 bmi\n",
       "region              \n",
       "northeast  29.173503\n",
       "northwest  29.199785\n",
       "southeast  33.355989\n",
       "southwest  30.596615"
      ]
     },
     "execution_count": 48,
     "metadata": {},
     "output_type": "execute_result"
    }
   ],
   "source": [
    "frame = data['bmi'].groupby(data['region']).mean().to_frame()\n",
    "frame"
   ]
  },
  {
   "cell_type": "code",
   "execution_count": 49,
   "id": "d7effa9c-f5a9-48b6-81cf-ecc9c2855279",
   "metadata": {},
   "outputs": [
    {
     "data": {
      "text/plain": [
       "<AxesSubplot:ylabel='region'>"
      ]
     },
     "execution_count": 49,
     "metadata": {},
     "output_type": "execute_result"
    },
    {
     "data": {
      "image/png": "[encoded data removed]",
      "text/plain": [
       "<Figure size 432x288 with 2 Axes>"
      ]
     },
     "metadata": {},
     "output_type": "display_data"
    }
   ],
   "source": [
    "sns.heatmap(frame)"
   ]
  },
  {
   "cell_type": "markdown",
   "id": "b2ef0e52-3b5f-4581-b14d-98eb00315fd4",
   "metadata": {},
   "source": [
    "**Observation**\n",
    "* Data is distributed among 4 Region\n",
    "* People Live in southeast pay charges larger than the rest of regions `14735.4 $`\n",
    "* People Live in southeast have the max BMI `33.35`"
   ]
  },
  {
   "cell_type": "markdown",
   "id": "25c4bc58-5925-4815-a3ef-ff3c381fcbe7",
   "metadata": {},
   "source": [
    "-----\n",
    "<h3>Children</h3>"
   ]
  },
  {
   "cell_type": "code",
   "execution_count": 50,
   "id": "d2fcc5c9-3a6d-4d53-9e66-06795b65f650",
   "metadata": {},
   "outputs": [
    {
     "data": {
      "text/plain": [
       "<AxesSubplot:xlabel='children', ylabel='count'>"
      ]
     },
     "execution_count": 50,
     "metadata": {},
     "output_type": "execute_result"
    },
    {
     "data": {
      "image/png": "[encoded data removed]",
      "text/plain": [
       "<Figure size 432x288 with 1 Axes>"
      ]
     },
     "metadata": {},
     "output_type": "display_data"
    }
   ],
   "source": [
    "sns.countplot(x = data['children'])"
   ]
  },
  {
   "cell_type": "code",
   "execution_count": 51,
   "id": "0db0ea4a-7c56-453d-aff1-dfad23ed8c19",
   "metadata": {},
   "outputs": [
    {
     "data": {
      "image/png": "[encoded data removed]",
      "text/plain": [
       "<Figure size 1440x360 with 1 Axes>"
      ]
     },
     "metadata": {},
     "output_type": "display_data"
    }
   ],
   "source": [
    "pie('children')"
   ]
  },
  {
   "cell_type": "code",
   "execution_count": 52,
   "id": "7971c77f-96fc-4238-b672-fa7c4ca9be13",
   "metadata": {},
   "outputs": [
    {
     "data": {
      "text/plain": [
       "children\n",
       "0    574\n",
       "1    324\n",
       "2    240\n",
       "3    157\n",
       "4     25\n",
       "5     18\n",
       "Name: age, dtype: int64"
      ]
     },
     "execution_count": 52,
     "metadata": {},
     "output_type": "execute_result"
    }
   ],
   "source": [
    "data.groupby('children').count()['age']"
   ]
  },
  {
   "cell_type": "markdown",
   "id": "abe35ccd-f195-48b4-adf1-86e3a23ffe30",
   "metadata": {},
   "source": [
    "**Observation**\n",
    "* About `85%` has less than 3 children "
   ]
  },
  {
   "cell_type": "markdown",
   "id": "ee7b464a-2ba9-405b-8373-599916e3c93e",
   "metadata": {},
   "source": [
    "----"
   ]
  },
  {
   "cell_type": "markdown",
   "id": "987c9d60-9f8d-4ce8-b5ab-a31408d48ffd",
   "metadata": {},
   "source": [
    "<h2>EDA For Numeric Data</h2>"
   ]
  },
  {
   "cell_type": "markdown",
   "id": "dff27662-d1e5-47ed-991a-e7f8ea488b6a",
   "metadata": {},
   "source": [
    "<h3>Age</h3>"
   ]
  },
  {
   "cell_type": "code",
   "execution_count": 53,
   "id": "1c273f1c-7838-44e8-a8c4-734dd245a2c7",
   "metadata": {},
   "outputs": [
    {
     "data": {
      "text/html": [
       "<div>\n",
       "<style scoped>\n",
       "    .dataframe tbody tr th:only-of-type {\n",
       "        vertical-align: middle;\n",
       "    }\n",
       "\n",
       "    .dataframe tbody tr th {\n",
       "        vertical-align: top;\n",
       "    }\n",
       "\n",
       "    .dataframe thead th {\n",
       "        text-align: right;\n",
       "    }\n",
       "</style>\n",
       "<table border=\"1\" class=\"dataframe\">\n",
       "  <thead>\n",
       "    <tr style=\"text-align: right;\">\n",
       "      <th></th>\n",
       "      <th>age</th>\n",
       "      <th>sex</th>\n",
       "      <th>bmi</th>\n",
       "      <th>children</th>\n",
       "      <th>smoker</th>\n",
       "      <th>region</th>\n",
       "      <th>charges</th>\n",
       "      <th>Weight</th>\n",
       "      <th>WeightStatus</th>\n",
       "    </tr>\n",
       "  </thead>\n",
       "  <tbody>\n",
       "    <tr>\n",
       "      <th>0</th>\n",
       "      <td>19</td>\n",
       "      <td>female</td>\n",
       "      <td>27.900</td>\n",
       "      <td>0</td>\n",
       "      <td>yes</td>\n",
       "      <td>southwest</td>\n",
       "      <td>16884.92400</td>\n",
       "      <td>UpNormal</td>\n",
       "      <td>Overweight</td>\n",
       "    </tr>\n",
       "    <tr>\n",
       "      <th>1</th>\n",
       "      <td>18</td>\n",
       "      <td>male</td>\n",
       "      <td>33.770</td>\n",
       "      <td>1</td>\n",
       "      <td>no</td>\n",
       "      <td>southeast</td>\n",
       "      <td>1725.55230</td>\n",
       "      <td>UpNormal</td>\n",
       "      <td>Obesity</td>\n",
       "    </tr>\n",
       "    <tr>\n",
       "      <th>2</th>\n",
       "      <td>28</td>\n",
       "      <td>male</td>\n",
       "      <td>33.000</td>\n",
       "      <td>3</td>\n",
       "      <td>no</td>\n",
       "      <td>southeast</td>\n",
       "      <td>4449.46200</td>\n",
       "      <td>UpNormal</td>\n",
       "      <td>Obesity</td>\n",
       "    </tr>\n",
       "    <tr>\n",
       "      <th>3</th>\n",
       "      <td>33</td>\n",
       "      <td>male</td>\n",
       "      <td>22.705</td>\n",
       "      <td>0</td>\n",
       "      <td>no</td>\n",
       "      <td>northwest</td>\n",
       "      <td>21984.47061</td>\n",
       "      <td>Normal</td>\n",
       "      <td>Healthy Weight</td>\n",
       "    </tr>\n",
       "    <tr>\n",
       "      <th>4</th>\n",
       "      <td>32</td>\n",
       "      <td>male</td>\n",
       "      <td>28.880</td>\n",
       "      <td>0</td>\n",
       "      <td>no</td>\n",
       "      <td>northwest</td>\n",
       "      <td>3866.85520</td>\n",
       "      <td>UpNormal</td>\n",
       "      <td>Overweight</td>\n",
       "    </tr>\n",
       "  </tbody>\n",
       "</table>\n",
       "</div>"
      ],
      "text/plain": [
       "   age     sex     bmi  children smoker     region      charges    Weight  \\\n",
       "0   19  female  27.900         0    yes  southwest  16884.92400  UpNormal   \n",
       "1   18    male  33.770         1     no  southeast   1725.55230  UpNormal   \n",
       "2   28    male  33.000         3     no  southeast   4449.46200  UpNormal   \n",
       "3   33    male  22.705         0     no  northwest  21984.47061    Normal   \n",
       "4   32    male  28.880         0     no  northwest   3866.85520  UpNormal   \n",
       "\n",
       "     WeightStatus  \n",
       "0      Overweight  \n",
       "1         Obesity  \n",
       "2         Obesity  \n",
       "3  Healthy Weight  \n",
       "4      Overweight  "
      ]
     },
     "execution_count": 53,
     "metadata": {},
     "output_type": "execute_result"
    }
   ],
   "source": [
    "data.head()"
   ]
  },
  {
   "cell_type": "code",
   "execution_count": 54,
   "id": "22766748-9580-42eb-bf9e-dce71e0db655",
   "metadata": {},
   "outputs": [
    {
     "name": "stdout",
     "output_type": "stream",
     "text": [
      "Min Value: 18\n",
      "Max Value: 64\n",
      "Q1: 27.0\n",
      "Q2: 39.0\n",
      "Q3: 51.0\n",
      "Mean: 39.20702541106129\n",
      "STD: 14.049960379216172\n"
     ]
    }
   ],
   "source": [
    "summarize('age')"
   ]
  },
  {
   "cell_type": "code",
   "execution_count": 55,
   "id": "c3ad7532-09e8-456c-b591-47cfeac901c7",
   "metadata": {},
   "outputs": [
    {
     "data": {
      "text/plain": [
       "<AxesSubplot:xlabel='age'>"
      ]
     },
     "execution_count": 55,
     "metadata": {},
     "output_type": "execute_result"
    },
    {
     "data": {
      "image/png": "[encoded data removed]",
      "text/plain": [
       "<Figure size 1440x360 with 1 Axes>"
      ]
     },
     "metadata": {},
     "output_type": "display_data"
    }
   ],
   "source": [
    "# Let's Check for outliers\n",
    "plt.figure(figsize=(20, 5))\n",
    "sns.boxplot(x = data['age'])"
   ]
  },
  {
   "cell_type": "code",
   "execution_count": 56,
   "id": "7524ddf4-dd2e-4361-a4a6-30210f0a5abc",
   "metadata": {},
   "outputs": [
    {
     "data": {
      "text/plain": [
       "<AxesSubplot:xlabel='age', ylabel='Count'>"
      ]
     },
     "execution_count": 56,
     "metadata": {},
     "output_type": "execute_result"
    },
    {
     "data": {
      "image/png": "[encoded data removed]",
      "text/plain": [
       "<Figure size 432x288 with 1 Axes>"
      ]
     },
     "metadata": {},
     "output_type": "display_data"
    }
   ],
   "source": [
    "# Let's Check for Age Dist\n",
    "sns.histplot(x = data['age'], kde = True, color='red')"
   ]
  },
  {
   "cell_type": "markdown",
   "id": "56ca6233-6a50-4331-a3b7-b2c45d91c278",
   "metadata": {},
   "source": [
    "**Observation**\n",
    "* There is `no outlier` in Age Feature\n",
    "* Age Feature is `Uniformly Distributed`\n",
    "* Has Min value : `18`\n",
    "* Max Value : `64`\n",
    "* Median : `39`\n",
    "* Mean: `39.2 + 14.04 ` OR `39.2 - 14.04`"
   ]
  },
  {
   "cell_type": "markdown",
   "id": "27887911-1474-4ec5-a7d6-21de47698e09",
   "metadata": {},
   "source": [
    "----\n",
    "<h3>BMI</h3>"
   ]
  },
  {
   "cell_type": "code",
   "execution_count": 57,
   "id": "93ca390e-2ce2-44ff-9052-7fe33b9eacd5",
   "metadata": {},
   "outputs": [
    {
     "name": "stdout",
     "output_type": "stream",
     "text": [
      "Min Value: 15.96\n",
      "Max Value: 53.13\n",
      "Q1: 26.29625\n",
      "Q2: 30.4\n",
      "Q3: 34.69375\n",
      "Mean: 30.663396860986538\n",
      "STD: 6.098186911679017\n"
     ]
    }
   ],
   "source": [
    "summarize('bmi')"
   ]
  },
  {
   "cell_type": "code",
   "execution_count": 58,
   "id": "726250eb-ee70-4060-b971-841e61b052e6",
   "metadata": {},
   "outputs": [
    {
     "data": {
      "text/plain": [
       "<AxesSubplot:xlabel='bmi'>"
      ]
     },
     "execution_count": 58,
     "metadata": {},
     "output_type": "execute_result"
    },
    {
     "data": {
      "image/png": "[encoded data removed]",
      "text/plain": [
       "<Figure size 1440x360 with 1 Axes>"
      ]
     },
     "metadata": {},
     "output_type": "display_data"
    }
   ],
   "source": [
    "# Let's Check for outliers\n",
    "plt.figure(figsize=(20, 5))\n",
    "sns.boxplot(x = data['bmi'])"
   ]
  },
  {
   "cell_type": "code",
   "execution_count": 59,
   "id": "57a32e93-7f1b-461e-b9b2-684fd995bfac",
   "metadata": {},
   "outputs": [
    {
     "data": {
      "text/plain": [
       "<AxesSubplot:xlabel='bmi', ylabel='Count'>"
      ]
     },
     "execution_count": 59,
     "metadata": {},
     "output_type": "execute_result"
    },
    {
     "data": {
      "image/png": "[encoded data removed]",
      "text/plain": [
       "<Figure size 432x288 with 1 Axes>"
      ]
     },
     "metadata": {},
     "output_type": "display_data"
    }
   ],
   "source": [
    "sns.histplot(x = data['bmi'], kde=True, color='red')"
   ]
  },
  {
   "cell_type": "code",
   "execution_count": 60,
   "id": "a6c60a0f-375c-44a1-be42-9909c676339b",
   "metadata": {},
   "outputs": [
    {
     "data": {
      "text/html": [
       "<div>\n",
       "<style scoped>\n",
       "    .dataframe tbody tr th:only-of-type {\n",
       "        vertical-align: middle;\n",
       "    }\n",
       "\n",
       "    .dataframe tbody tr th {\n",
       "        vertical-align: top;\n",
       "    }\n",
       "\n",
       "    .dataframe thead th {\n",
       "        text-align: right;\n",
       "    }\n",
       "</style>\n",
       "<table border=\"1\" class=\"dataframe\">\n",
       "  <thead>\n",
       "    <tr style=\"text-align: right;\">\n",
       "      <th></th>\n",
       "      <th>age</th>\n",
       "      <th>sex</th>\n",
       "      <th>bmi</th>\n",
       "      <th>children</th>\n",
       "      <th>smoker</th>\n",
       "      <th>region</th>\n",
       "      <th>charges</th>\n",
       "      <th>Weight</th>\n",
       "      <th>WeightStatus</th>\n",
       "    </tr>\n",
       "  </thead>\n",
       "  <tbody>\n",
       "    <tr>\n",
       "      <th>1317</th>\n",
       "      <td>18</td>\n",
       "      <td>male</td>\n",
       "      <td>53.13</td>\n",
       "      <td>0</td>\n",
       "      <td>no</td>\n",
       "      <td>southeast</td>\n",
       "      <td>1163.4627</td>\n",
       "      <td>UpNormal</td>\n",
       "      <td>Obesity</td>\n",
       "    </tr>\n",
       "  </tbody>\n",
       "</table>\n",
       "</div>"
      ],
      "text/plain": [
       "      age   sex    bmi  children smoker     region    charges    Weight  \\\n",
       "1317   18  male  53.13         0     no  southeast  1163.4627  UpNormal   \n",
       "\n",
       "     WeightStatus  \n",
       "1317      Obesity  "
      ]
     },
     "execution_count": 60,
     "metadata": {},
     "output_type": "execute_result"
    }
   ],
   "source": [
    "# Who is the max BMI ?\n",
    "data[ data['bmi'] == data['bmi'].max() ]"
   ]
  },
  {
   "cell_type": "code",
   "execution_count": 61,
   "id": "6c11fd20-42e8-4282-9184-975cfa22693a",
   "metadata": {},
   "outputs": [
    {
     "data": {
      "text/html": [
       "<div>\n",
       "<style scoped>\n",
       "    .dataframe tbody tr th:only-of-type {\n",
       "        vertical-align: middle;\n",
       "    }\n",
       "\n",
       "    .dataframe tbody tr th {\n",
       "        vertical-align: top;\n",
       "    }\n",
       "\n",
       "    .dataframe thead th {\n",
       "        text-align: right;\n",
       "    }\n",
       "</style>\n",
       "<table border=\"1\" class=\"dataframe\">\n",
       "  <thead>\n",
       "    <tr style=\"text-align: right;\">\n",
       "      <th></th>\n",
       "      <th>age</th>\n",
       "      <th>sex</th>\n",
       "      <th>bmi</th>\n",
       "      <th>children</th>\n",
       "      <th>smoker</th>\n",
       "      <th>region</th>\n",
       "      <th>charges</th>\n",
       "      <th>Weight</th>\n",
       "      <th>WeightStatus</th>\n",
       "    </tr>\n",
       "  </thead>\n",
       "  <tbody>\n",
       "    <tr>\n",
       "      <th>172</th>\n",
       "      <td>18</td>\n",
       "      <td>male</td>\n",
       "      <td>15.96</td>\n",
       "      <td>0</td>\n",
       "      <td>no</td>\n",
       "      <td>northeast</td>\n",
       "      <td>1694.7964</td>\n",
       "      <td>UpNormal</td>\n",
       "      <td>Underweight</td>\n",
       "    </tr>\n",
       "  </tbody>\n",
       "</table>\n",
       "</div>"
      ],
      "text/plain": [
       "     age   sex    bmi  children smoker     region    charges    Weight  \\\n",
       "172   18  male  15.96         0     no  northeast  1694.7964  UpNormal   \n",
       "\n",
       "    WeightStatus  \n",
       "172  Underweight  "
      ]
     },
     "execution_count": 61,
     "metadata": {},
     "output_type": "execute_result"
    }
   ],
   "source": [
    "# Who is the min BMI ?\n",
    "data[ data['bmi'] == data['bmi'].min() ]"
   ]
  },
  {
   "cell_type": "code",
   "execution_count": 62,
   "id": "0019e137-d575-49b3-947e-6be40f75856a",
   "metadata": {},
   "outputs": [
    {
     "data": {
      "text/plain": [
       "13270.422265141257"
      ]
     },
     "execution_count": 62,
     "metadata": {},
     "output_type": "execute_result"
    }
   ],
   "source": [
    "# We will get the mean of Charges to compare with the max BMI\n",
    "data['charges'].mean()"
   ]
  },
  {
   "cell_type": "markdown",
   "id": "1c42976b-a0b2-4699-aead-38ad25f726c0",
   "metadata": {},
   "source": [
    "**Observation**\n",
    "* BMI distribution approximately follow Normal Distribution \n",
    "* Max value is `53.13` he is a Male with `18 years old` Live in `Southeast` \n",
    "* He is paying `charges` Less than `Average charges` and he is `non-smoker` and we mention that `Smokers pay more charges` and `BMI doesn't affect the charges`"
   ]
  },
  {
   "cell_type": "markdown",
   "id": "a661485b-5ed1-4ff1-a4f3-8c175f990566",
   "metadata": {},
   "source": [
    "---\n",
    "<h3>Charges</h3>"
   ]
  },
  {
   "cell_type": "code",
   "execution_count": 63,
   "id": "59fe7e2c-f618-4172-84ab-76c601410a57",
   "metadata": {},
   "outputs": [
    {
     "name": "stdout",
     "output_type": "stream",
     "text": [
      "Min Value: 1121.8739\n",
      "Max Value: 63770.42801\n",
      "Q1: 4740.28715\n",
      "Q2: 9382.033\n",
      "Q3: 16639.912515\n",
      "Mean: 13270.422265141257\n",
      "STD: 12110.011236693994\n"
     ]
    }
   ],
   "source": [
    "summarize('charges')"
   ]
  },
  {
   "cell_type": "code",
   "execution_count": 64,
   "id": "3e18f09c-df02-427f-88ac-cb46a61aa00b",
   "metadata": {},
   "outputs": [
    {
     "data": {
      "text/plain": [
       "<AxesSubplot:xlabel='charges'>"
      ]
     },
     "execution_count": 64,
     "metadata": {},
     "output_type": "execute_result"
    },
    {
     "data": {
      "image/png": "[encoded data removed]",
      "text/plain": [
       "<Figure size 1440x360 with 1 Axes>"
      ]
     },
     "metadata": {},
     "output_type": "display_data"
    }
   ],
   "source": [
    "# Let's Check for outliers\n",
    "plt.figure(figsize=(20, 5))\n",
    "sns.boxplot(x = data['charges'])"
   ]
  },
  {
   "cell_type": "code",
   "execution_count": 65,
   "id": "17255304-7ac0-4703-86f5-1bf17a66aa35",
   "metadata": {},
   "outputs": [
    {
     "data": {
      "text/plain": [
       "<AxesSubplot:xlabel='charges', ylabel='Count'>"
      ]
     },
     "execution_count": 65,
     "metadata": {},
     "output_type": "execute_result"
    },
    {
     "data": {
      "image/png": "[encoded data removed]",
      "text/plain": [
       "<Figure size 432x288 with 1 Axes>"
      ]
     },
     "metadata": {},
     "output_type": "display_data"
    }
   ],
   "source": [
    "# What is the distribution ?\n",
    "sns.histplot(x = data['charges'], kde = True, color='red')"
   ]
  },
  {
   "cell_type": "code",
   "execution_count": 66,
   "id": "46dedf35-3df3-4919-a34f-f30eb14c39af",
   "metadata": {},
   "outputs": [
    {
     "data": {
      "text/html": [
       "<div>\n",
       "<style scoped>\n",
       "    .dataframe tbody tr th:only-of-type {\n",
       "        vertical-align: middle;\n",
       "    }\n",
       "\n",
       "    .dataframe tbody tr th {\n",
       "        vertical-align: top;\n",
       "    }\n",
       "\n",
       "    .dataframe thead th {\n",
       "        text-align: right;\n",
       "    }\n",
       "</style>\n",
       "<table border=\"1\" class=\"dataframe\">\n",
       "  <thead>\n",
       "    <tr style=\"text-align: right;\">\n",
       "      <th></th>\n",
       "      <th>age</th>\n",
       "      <th>sex</th>\n",
       "      <th>bmi</th>\n",
       "      <th>children</th>\n",
       "      <th>smoker</th>\n",
       "      <th>region</th>\n",
       "      <th>charges</th>\n",
       "      <th>Weight</th>\n",
       "      <th>WeightStatus</th>\n",
       "    </tr>\n",
       "  </thead>\n",
       "  <tbody>\n",
       "    <tr>\n",
       "      <th>543</th>\n",
       "      <td>54</td>\n",
       "      <td>female</td>\n",
       "      <td>47.41</td>\n",
       "      <td>0</td>\n",
       "      <td>yes</td>\n",
       "      <td>southeast</td>\n",
       "      <td>63770.42801</td>\n",
       "      <td>UpNormal</td>\n",
       "      <td>Obesity</td>\n",
       "    </tr>\n",
       "  </tbody>\n",
       "</table>\n",
       "</div>"
      ],
      "text/plain": [
       "     age     sex    bmi  children smoker     region      charges    Weight  \\\n",
       "543   54  female  47.41         0    yes  southeast  63770.42801  UpNormal   \n",
       "\n",
       "    WeightStatus  \n",
       "543      Obesity  "
      ]
     },
     "execution_count": 66,
     "metadata": {},
     "output_type": "execute_result"
    }
   ],
   "source": [
    "# Who Pay More Charges ?!\n",
    "data[ data['charges'] == data['charges'].max() ]"
   ]
  },
  {
   "cell_type": "code",
   "execution_count": 67,
   "id": "88c0559c-e67c-4e05-8929-c40dcbc7350d",
   "metadata": {},
   "outputs": [
    {
     "data": {
      "text/html": [
       "<div>\n",
       "<style scoped>\n",
       "    .dataframe tbody tr th:only-of-type {\n",
       "        vertical-align: middle;\n",
       "    }\n",
       "\n",
       "    .dataframe tbody tr th {\n",
       "        vertical-align: top;\n",
       "    }\n",
       "\n",
       "    .dataframe thead th {\n",
       "        text-align: right;\n",
       "    }\n",
       "</style>\n",
       "<table border=\"1\" class=\"dataframe\">\n",
       "  <thead>\n",
       "    <tr style=\"text-align: right;\">\n",
       "      <th></th>\n",
       "      <th>age</th>\n",
       "      <th>sex</th>\n",
       "      <th>bmi</th>\n",
       "      <th>children</th>\n",
       "      <th>smoker</th>\n",
       "      <th>region</th>\n",
       "      <th>charges</th>\n",
       "      <th>Weight</th>\n",
       "      <th>WeightStatus</th>\n",
       "    </tr>\n",
       "  </thead>\n",
       "  <tbody>\n",
       "    <tr>\n",
       "      <th>940</th>\n",
       "      <td>18</td>\n",
       "      <td>male</td>\n",
       "      <td>23.21</td>\n",
       "      <td>0</td>\n",
       "      <td>no</td>\n",
       "      <td>southeast</td>\n",
       "      <td>1121.8739</td>\n",
       "      <td>Normal</td>\n",
       "      <td>Healthy Weight</td>\n",
       "    </tr>\n",
       "  </tbody>\n",
       "</table>\n",
       "</div>"
      ],
      "text/plain": [
       "     age   sex    bmi  children smoker     region    charges  Weight  \\\n",
       "940   18  male  23.21         0     no  southeast  1121.8739  Normal   \n",
       "\n",
       "       WeightStatus  \n",
       "940  Healthy Weight  "
      ]
     },
     "execution_count": 67,
     "metadata": {},
     "output_type": "execute_result"
    }
   ],
   "source": [
    "# Who Pay Min Charges ?!\n",
    "data[ data['charges'] == data['charges'].min() ]"
   ]
  },
  {
   "cell_type": "markdown",
   "id": "d9eeda8f-37ae-4151-a4c6-4ca6c2f8838d",
   "metadata": {},
   "source": [
    "**Observation**\n",
    "* Charges Have alot of outliers\n",
    "* Charges Distribution Is Skweed to left\n",
    "* The Person that pay `Max charges is smoker` while Who pay `min charges is non-smoker`"
   ]
  },
  {
   "cell_type": "markdown",
   "id": "cd706ae5-58d3-49a8-a116-e0cc542310de",
   "metadata": {},
   "source": [
    "----"
   ]
  },
  {
   "cell_type": "markdown",
   "id": "f3ccd876-0d5a-4348-a6de-940aecce96cc",
   "metadata": {},
   "source": [
    "Charges VS Age"
   ]
  },
  {
   "cell_type": "code",
   "execution_count": 73,
   "id": "781cd78f-916b-467c-9d5d-f342f8b06b62",
   "metadata": {},
   "outputs": [
    {
     "data": {
      "text/plain": [
       "<AxesSubplot:xlabel='age', ylabel='charges'>"
      ]
     },
     "execution_count": 73,
     "metadata": {},
     "output_type": "execute_result"
    },
    {
     "data": {
      "image/png": "[encoded data removed]",
      "text/plain": [
       "<Figure size 1080x504 with 1 Axes>"
      ]
     },
     "metadata": {},
     "output_type": "display_data"
    }
   ],
   "source": [
    "plt.figure(figsize=(15, 7))\n",
    "sns.scatterplot(x = data['age'], y = data['charges'], hue = data['smoker'])"
   ]
  },
  {
   "cell_type": "markdown",
   "id": "cee1888d-6143-4443-8092-882817a4109a",
   "metadata": {},
   "source": [
    "**Observation**\n",
    "* There is Relation between age and charges we see that increasing in age cause increasing in charges case non-smokers\n",
    "* But Smokers have charges greater that non-smokers"
   ]
  },
  {
   "cell_type": "code",
   "execution_count": null,
   "id": "9f56174f-eaae-4384-825c-cc303917c3a1",
   "metadata": {},
   "outputs": [],
   "source": []
  }
 ],
 "metadata": {
  "kernelspec": {
   "display_name": "Python 3 (ipykernel)",
   "language": "python",
   "name": "python3"
  },
  "language_info": {
   "codemirror_mode": {
    "name": "ipython",
    "version": 3
   },
   "file_extension": ".py",
   "mimetype": "text/x-python",
   "name": "python",
   "nbconvert_exporter": "python",
   "pygments_lexer": "ipython3",
   "version": "3.9.7"
  }
 },
 "nbformat": 4,
 "nbformat_minor": 5
}
